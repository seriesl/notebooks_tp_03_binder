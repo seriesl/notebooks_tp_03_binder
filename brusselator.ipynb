{
 "cells": [
  {
   "cell_type": "markdown",
   "metadata": {
    "hideCode": false,
    "hidePrompt": false
   },
   "source": [
    "# Le modèle du Brusselator\n",
    "\n",
    "Le modèle du Brusselator est un exemple de modèle de réaction chimique autocatalytique. Il s'écrit\n",
    "sous la forme du système suivant:\n",
    "\n",
    "$$\n",
    "\\left\\{\\begin{aligned}\n",
    "\\partial_t y_1 & = 1 - (b+1) y_1 + a y_1^2y_2\\\\\n",
    "\\partial_t y_2 & = b y_1 - a y_1^2y_2\n",
    "\\end{aligned}\\right.\n",
    "$$"
   ]
  },
  {
   "cell_type": "code",
   "execution_count": null,
   "metadata": {
    "hideCode": false,
    "hidePrompt": false,
    "scrolled": false
   },
   "outputs": [],
   "source": [
    "import numpy as np\n",
    "import time\n",
    "\n",
    "from scipy.integrate import solve_ivp\n",
    "\n",
    "from bokeh.io import output_notebook\n",
    "from bokeh.plotting import figure, show\n",
    "from bokeh.layouts import column\n",
    "\n",
    "from mylib.model import brusselator_model\n",
    "import mylib.integration as integration\n",
    "from mylib.integration import parareal\n",
    "\n",
    "output_notebook(hide_banner=True)"
   ]
  },
  {
   "cell_type": "code",
   "execution_count": null,
   "metadata": {},
   "outputs": [],
   "source": [
    "def compute_integration_time(tini, tend, yini, fcn, method, nt, rtol, atol, ntimes=100):\n",
    "        \n",
    "    t0 = time.time()\n",
    "    for i in range(ntimes):\n",
    "        integration.integrate(method, tini, tend, nt, rtol, atol, yini, fcn)\n",
    "    t1 = time.time()\n",
    "    time_average = (t1-t0) / ntimes\n",
    "    \n",
    "    return time_average"
   ]
  },
  {
   "cell_type": "code",
   "execution_count": null,
   "metadata": {},
   "outputs": [],
   "source": [
    "def plot_sol(tini, tend, nb_sub, sol_ref, sol):\n",
    "\n",
    "    # plot solution\n",
    "    fig_sol = figure(x_range=(tini-0.25, tend+0.25), width=950, height=400, \n",
    "                     title=\"Solution (click on legend to see reference solution)\")\n",
    "    # plot ref solution\n",
    "    for isub in range(nb_sub):\n",
    "        fig_sol.line(sol_ref.sol_fine[isub].t, sol_ref.sol_fine[isub].y[0], color=\"grey\", line_alpha=0.5)\n",
    "        fig_sol.line(sol_ref.sol_fine[isub].t, sol_ref.sol_fine[isub].y[1], color=\"grey\", line_alpha=0.5)\n",
    "        \n",
    "    # plot Y\n",
    "    fig_sol.x(sol.T, sol.Y[0], line_width=2, size=10)    \n",
    "    fig_sol.x(sol.T, sol.Y[1], line_width=2, size=10, color=\"green\")\n",
    "    \n",
    "    #plot fine solution\n",
    "    for isub in range(nb_sub):\n",
    "        fig_sol.line(sol.sol_fine[isub].t, sol.sol_fine[isub].y[0], legend='y1')\n",
    "        fig_sol.line(sol.sol_fine[isub].t, sol.sol_fine[isub].y[1], legend='y2', color=\"green\")\n",
    "\n",
    "    fig_sol.legend.location = \"top_left\"\n",
    "    fig_sol.legend.click_policy=\"hide\"\n",
    "\n",
    "    show(fig_sol)"
   ]
  },
  {
   "cell_type": "markdown",
   "metadata": {
    "hideCode": false,
    "hidePrompt": false
   },
   "source": [
    "## Solution obtenue par l'algorithme pararéel "
   ]
  },
  {
   "cell_type": "code",
   "execution_count": null,
   "metadata": {},
   "outputs": [],
   "source": [
    "def parareal_sol():\n",
    "    \n",
    "    bm = brusselator_model(a=1, b=3)\n",
    "    fcn = bm.fcn  \n",
    "    \n",
    "    tini = 0. \n",
    "    tend = 20.\n",
    "    \n",
    "    yini = (1.5, 3)\n",
    "    \n",
    "    # parareal parameters\n",
    "    nb_sub = 100\n",
    "    coarse_method = \"rk1\"\n",
    "    nc = 10\n",
    "    rtolc = 1.e-6\n",
    "    atolc = 1.e-6\n",
    "    fine_method = \"rk4\"\n",
    "    nf = 100\n",
    "    rtolf = 1.e-6\n",
    "    atolf = 1.e-6\n",
    "    max_iter = nb_sub\n",
    "    eps = 1.e-5\n",
    "    \n",
    "    # compute time for coarse integration\n",
    "    Tg = compute_integration_time(tini, tend, yini, fcn, coarse_method, nb_sub*nc, rtolc, atolc, ntimes=100)\n",
    "    print(f\"Elapsed time (s) for coarse integration : {Tg:.8f}\")\n",
    "    # compute time for fine integration\n",
    "    Tf = compute_integration_time(tini, tend, yini, fcn, fine_method, nb_sub*nf, rtolf, atolf, ntimes=10)\n",
    "    print(f\"Elapsed time (s) for fine integration   : {Tf:.8f}\")\n",
    "    \n",
    "    # compute reference solution\n",
    "    print(\"\\nCompute reference solution ...\")\n",
    "    sol_ref = integration.compute_ref_sol(tini, tend, nb_sub, yini, fcn, 'RK45')\n",
    "    \n",
    "    # parareal algorithm\n",
    "    print(\"\\nParareal algorithm\\n\")     \n",
    "    sol = parareal(tini, tend, nb_sub, yini, fcn, coarse_method, nc, rtolc, atolc, fine_method, nf, rtolf, atolf,\n",
    "                   max_iter, eps, np.ones(2))\n",
    "\n",
    "    print(\"\\nGlobal error :\")     \n",
    "    err = np.zeros(2)\n",
    "    for ieq in range(2):\n",
    "        err[ieq] = np.linalg.norm(sol.Y[ieq]-sol_ref.Y[ieq])/np.sqrt(nb_sub)\n",
    "        print(f\" {ieq+1}th variable : || Yi - Yref || = {err[ieq]:7.2e} (error between parareal and ref solution)\")\n",
    "\n",
    "    print(\"\\nEfficiency :\")\n",
    "    print(f\"  nb iteration (nit) = {sol.nit}\")\n",
    "    print(f\"  nit/n = {sol.nit/nb_sub}\")\n",
    "    print(f\"  Tg/Tf = {Tg/Tf}\")\n",
    "    Tpar = (sol.nit/nb_sub) + (sol.nit+1)*(Tg/Tf) \n",
    "    print(f\"  Tseq/Tpar = {1/Tpar}\")\n",
    "\n",
    "    # plot solution\n",
    "    plot_sol(tini, tend, nb_sub, sol_ref, sol)\n",
    "\n",
    "parareal_sol()"
   ]
  }
 ],
 "metadata": {
  "hide_code_all_hidden": false,
  "kernelspec": {
   "display_name": "Python 3",
   "language": "python",
   "name": "python3"
  },
  "language_info": {
   "codemirror_mode": {
    "name": "ipython",
    "version": 3
   },
   "file_extension": ".py",
   "mimetype": "text/x-python",
   "name": "python",
   "nbconvert_exporter": "python",
   "pygments_lexer": "ipython3",
   "version": "3.7.1"
  }
 },
 "nbformat": 4,
 "nbformat_minor": 2
}
