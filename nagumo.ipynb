{
 "cells": [
  {
   "cell_type": "markdown",
   "metadata": {
    "hideCode": false,
    "hidePrompt": false
   },
   "source": [
    "# Le modèle de propagation de front de type Nagumo\n",
    "\n",
    "On considère l'équation de Nagumo :\n",
    "\n",
    "\\begin{equation} \n",
    "\\frac{\\partial y}{\\partial t} = D \\frac{y}{\\partial x^2} + k \\, y^2 (1 - y)\n",
    "\\end{equation}"
   ]
  },
  {
   "cell_type": "code",
   "execution_count": null,
   "metadata": {
    "hideCode": false,
    "hidePrompt": false,
    "scrolled": false
   },
   "outputs": [],
   "source": [
    "import numpy as np\n",
    "import time\n",
    "\n",
    "from scipy.integrate import solve_ivp\n",
    "\n",
    "from bokeh.io import output_notebook\n",
    "from bokeh.plotting import figure, show\n",
    "from bokeh.layouts import column\n",
    "\n",
    "from mylib.nagumo_model import nagumo_model\n",
    "import mylib.integration_spatially_extended as integration\n",
    "from mylib.integration_spatially_extended import parareal\n",
    "\n",
    "output_notebook(hide_banner=True)"
   ]
  },
  {
   "cell_type": "code",
   "execution_count": null,
   "metadata": {},
   "outputs": [],
   "source": [
    "def compute_integration_time(tini, tend, yini, fcn, fcn_reac, fcn_diff, method, nt, tol, ntimes=100):\n",
    "        \n",
    "    t0 = time.time()\n",
    "    for i in range(ntimes):\n",
    "        integration.integrate(method, tini, tend, nt, tol, yini, fcn, fcn_reac, fcn_diff)\n",
    "    t1 = time.time()\n",
    "    time_average = (t1-t0) / ntimes\n",
    "    \n",
    "    return time_average"
   ]
  },
  {
   "cell_type": "markdown",
   "metadata": {
    "hideCode": false,
    "hidePrompt": false
   },
   "source": [
    "## Solution obtenue par l'algorithme pararéel "
   ]
  },
  {
   "cell_type": "code",
   "execution_count": null,
   "metadata": {},
   "outputs": [],
   "source": [
    "def parareal_sol():\n",
    "    \n",
    "    k = 1.\n",
    "    d = 1.\n",
    "\n",
    "    xmin = -70.\n",
    "    xmax = 70.\n",
    "    # nb of points including boundary conditions\n",
    "    nxib = 1001\n",
    "    nx = nxib-2\n",
    "    tini = 0.0\n",
    "    tend = 50.0\n",
    "                \n",
    "    nm = nagumo_model(k=k, d=d, xmin=xmin, xmax=xmax, nx=nx)\n",
    "    fcn = nm.fcn_radau\n",
    "    #fcn_diff = nm.fcn_diff_rock\n",
    "    fcn_diff = nm.fcn_diff_radau\n",
    "    fcn_reac = nm.fcn_reac_radau\n",
    "    fcn_exact = nm.fcn_exact    \n",
    "\n",
    "    dx = (xmax-xmin)/(nxib-1)\n",
    "    x = np.linspace(xmin+dx, xmax-dx, nx)\n",
    "    yini = fcn_exact(tini)    \n",
    "    \n",
    "    # parareal parameters\n",
    "    nb_sub = 25\n",
    "    coarse_method = \"strang\"\n",
    "    nc = 5\n",
    "    tolc = 1.e-6\n",
    "    fine_method = \"strang\"\n",
    "    nf = 50\n",
    "    tolf = 1.e-6\n",
    "    max_iter = nb_sub\n",
    "    eps = 1.e-6\n",
    "  \n",
    "    dT = (tend-tini)/nb_sub\n",
    "    # compute time for coarse integration\n",
    "    Tg = compute_integration_time(tini, tini+dT, yini, fcn, fcn_reac, fcn_diff, coarse_method, nc, tolc, ntimes=10)\n",
    "    print(f\"Elapsed time (s) for coarse integration : {Tg:.8f}\")\n",
    "    # compute time for fine integration\n",
    "    Tf = compute_integration_time(tini, tini+dT, yini, fcn, fcn_reac, fcn_diff, fine_method, nf, tolf, ntimes=2)\n",
    "    ##Tf = compute_integration_time(tini, tend, yini, fcn, fine_method, nb_sub*nf, tolf, ntimes=10)\n",
    "    print(f\"Elapsed time (s) for fine integration   : {Tf:.8f}\")\n",
    "    \n",
    "    # compute reference solution\n",
    "    print(\"\\nCompute reference solution ...\")\n",
    "    #sol_ref = integration.radau5(tini, tend, yini, fcn, njac=1, atol=1.e-12, rtol=1.e-12)\n",
    "    sol_ref = integration.compute_ref_sol(tini, tend, nb_sub, yini, fcn)\n",
    "    \n",
    "    # parareal algorithm\n",
    "    print(\"\\nParareal algorithm\\n\")     \n",
    "    sol = parareal(tini, tend, nb_sub, yini, fcn, fcn_reac, fcn_diff, coarse_method, nc, tolc, \n",
    "                   fine_method, nf, tolf, max_iter, eps)\n",
    "    \n",
    "    print(\"\\nGlobal error:\")     \n",
    "    err = np.linalg.norm(sol.Y-sol_ref.Y)/np.sqrt(nb_sub*nx)\n",
    "    print(f\" || Yi - Yref || = {err:7.2e} (error between parareal and ref solution)\")\n",
    "    \n",
    "    print(\"\\nEfficiency :\")\n",
    "    print(f\"  nb iteration (nit) = {sol.nit}\")\n",
    "    print(f\"  nit/n = {sol.nit/nb_sub}\")\n",
    "    print(f\"  Tg/Tf = {Tg/Tf}\")\n",
    "    Tpar = (sol.nit/nb_sub) + (sol.nit+1)*(Tg/Tf) \n",
    "    print(f\"  Tseq/Tpar = {1/Tpar}\")\n",
    "\n",
    "    fig = figure(x_range=(xmin, xmax), plot_height=400, plot_width=950)\n",
    "    fig.line(x, sol_ref.Y[:,-1], color=\"grey\")\n",
    "    fig.x(x, sol.Y[:,-1])\n",
    "    show(fig)\n",
    "\n",
    "parareal_sol()"
   ]
  }
 ],
 "metadata": {
  "hide_code_all_hidden": false,
  "kernelspec": {
   "display_name": "Python 3",
   "language": "python",
   "name": "python3"
  },
  "language_info": {
   "codemirror_mode": {
    "name": "ipython",
    "version": 3
   },
   "file_extension": ".py",
   "mimetype": "text/x-python",
   "name": "python",
   "nbconvert_exporter": "python",
   "pygments_lexer": "ipython3",
   "version": "3.7.1"
  }
 },
 "nbformat": 4,
 "nbformat_minor": 2
}
