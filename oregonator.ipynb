{
 "cells": [
  {
   "cell_type": "markdown",
   "metadata": {
    "hideCode": true,
    "hidePrompt": false
   },
   "source": [
    "# Le modèle de l'Oregonator\n",
    "\n",
    "Le modèle de l'Oregonator s'écrit :\n",
    "\n",
    "\\begin{equation} \n",
    "\\left\\{ \n",
    "\\begin{aligned} \n",
    "\\partial_t y_1 & = y_2-y_1\\\\ \n",
    "\\varepsilon\\, \\partial_t y_2 &= q\\,y_3-y_3\\,y_2+y_2(1-y_2)\\\\\n",
    "\\mu\\,  \\partial_t y_3 &= -q\\,y_3- y_3\\,y_2+f\\, y_1\n",
    "\\end{aligned} \n",
    "\\right. \n",
    "\\end{equation}\n",
    "\n",
    "On prendra les paramètres suivant :\n",
    "\n",
    "\\begin{equation} \n",
    "\\epsilon = 10^{-2},\\quad \\mu =10^{-4}, \\quad f=1,\\quad q=2.10^{-4}.\n",
    "\\end{equation}"
   ]
  },
  {
   "cell_type": "code",
   "execution_count": null,
   "metadata": {
    "hideCode": false,
    "hidePrompt": false,
    "scrolled": true
   },
   "outputs": [],
   "source": [
    "import numpy as np\n",
    "import time\n",
    "\n",
    "from scipy.integrate import solve_ivp\n",
    "\n",
    "from bokeh.io import output_notebook\n",
    "from bokeh.plotting import figure, show\n",
    "from bokeh.layouts import column\n",
    "\n",
    "from mylib.model import oregonator_model\n",
    "import mylib.integration as integration\n",
    "from mylib.integration import parareal\n",
    "\n",
    "output_notebook(hide_banner=True)"
   ]
  },
  {
   "cell_type": "code",
   "execution_count": null,
   "metadata": {},
   "outputs": [],
   "source": [
    "def compute_integration_time(tini, tend, yini, fcn, method, nt, rtol, atol, ntimes=100):\n",
    "        \n",
    "    t0 = time.time()\n",
    "    for i in range(ntimes):\n",
    "        integration.integrate(method, tini, tend, nt, rtol, atol, yini, fcn)\n",
    "    t1 = time.time()\n",
    "    time_average = (t1-t0) / ntimes\n",
    "    \n",
    "    return time_average"
   ]
  },
  {
   "cell_type": "code",
   "execution_count": null,
   "metadata": {},
   "outputs": [],
   "source": [
    "def plot_sol(tini, tend, nb_sub, sol_ref, sol):\n",
    "\n",
    "    # plot solution\n",
    "    fig_sol_y1 = figure(x_range=(tini-0.25, tend+0.25), width=950, height=400, \n",
    "                     title=\"Solution y1 (click on legend to see reference solution)\")\n",
    "    fig_sol_y2 = figure(x_range=(tini-0.25, tend+0.25), width=950, height=400, \n",
    "                     title=\"Solution y2 (click on legend to see reference solution)\")\n",
    "    fig_sol_y3 = figure(x_range=(tini-0.25, tend+0.25), width=950, height=400, \n",
    "                     title=\"Solution y3 (click on legend to see reference solution)\")\n",
    "    # plot ref solution\n",
    "    for isub in range(nb_sub):\n",
    "        fig_sol_y1.line(sol_ref.sol_fine[isub].t, sol_ref.sol_fine[isub].y[0], color=\"grey\", line_alpha=0.5)\n",
    "        fig_sol_y2.line(sol_ref.sol_fine[isub].t, sol_ref.sol_fine[isub].y[1], color=\"grey\", line_alpha=0.5)\n",
    "        fig_sol_y3.line(sol_ref.sol_fine[isub].t, sol_ref.sol_fine[isub].y[2], color=\"grey\", line_alpha=0.5)\n",
    "        \n",
    "    # plot Y\n",
    "    fig_sol_y1.x(sol.T, sol.Y[0], line_width=2, size=10)    \n",
    "    fig_sol_y2.x(sol.T, sol.Y[1], line_width=2, size=10)\n",
    "    fig_sol_y3.x(sol.T, sol.Y[2], line_width=2, size=10)\n",
    "    \n",
    "    # plot fine solution\n",
    "    for isub in range(nb_sub):\n",
    "        fig_sol_y1.line(sol.sol_fine[isub].t, sol.sol_fine[isub].y[0])\n",
    "        fig_sol_y2.line(sol.sol_fine[isub].t, sol.sol_fine[isub].y[1])\n",
    "        fig_sol_y3.line(sol.sol_fine[isub].t, sol.sol_fine[isub].y[2])\n",
    "\n",
    "    show(column(fig_sol_y1, fig_sol_y2, fig_sol_y3))"
   ]
  },
  {
   "cell_type": "markdown",
   "metadata": {
    "hideCode": false,
    "hidePrompt": false
   },
   "source": [
    "## Solution obtenue par l'algorithme pararéel "
   ]
  },
  {
   "cell_type": "code",
   "execution_count": null,
   "metadata": {
    "scrolled": false
   },
   "outputs": [],
   "source": [
    "def parareal_sol():\n",
    "    \n",
    "    eps = 1.e-2\n",
    "    mu  = 1.e-5\n",
    "    f   = 1.\n",
    "    q   = 2.e-4\n",
    "    om = oregonator_model(eps=eps, mu=mu, f=f, q=q)\n",
    "    fcn = om.fcn\n",
    " \n",
    "    tini = 0. \n",
    "    tend = 30.\n",
    "\n",
    "    yini = (0.5, 1.e-3, (f*0.5)/(q+1.e-3))\n",
    "    \n",
    "    scale_factor = np.array([0.3, 1.0, 600.])\n",
    "        \n",
    "    # parareal parameters\n",
    "    nb_sub = 30\n",
    "    coarse_method = \"radau5\"\n",
    "    nc = 100\n",
    "    rtolc = 1.e-3\n",
    "    atolc = 1.e-6\n",
    "    fine_method = \"radau5\"\n",
    "    nf = 100\n",
    "    rtolf = 1.e-8\n",
    "    atolf = 1.e-8\n",
    "    max_iter = nb_sub\n",
    "    eps = 1.e-3\n",
    "    \n",
    "    # compute time for coarse integration\n",
    "    Tg = compute_integration_time(tini, tend, yini, fcn, coarse_method, nb_sub*nc, rtolc, atolf, ntimes=10)\n",
    "    print(f\"Elapsed time (s) for coarse integration : {Tg:.8f}\")\n",
    "    # compute time for fine integration\n",
    "    Tf = compute_integration_time(tini, tend, yini, fcn, fine_method, nb_sub*nf, rtolf, atolf, ntimes=10)\n",
    "    print(f\"Elapsed time (s) for fine integration   : {Tf:.8f}\")\n",
    "    \n",
    "    # compute reference solution\n",
    "    print(\"\\nCompute reference solution ...\")\n",
    "    sol_ref = integration.compute_ref_sol(tini, tend, nb_sub, yini, fcn, 'Radau')\n",
    "        \n",
    "    # parareal algorithm\n",
    "    print(\"\\nParareal algorithm\\n\")     \n",
    "    sol = parareal(tini, tend, nb_sub, yini, fcn, coarse_method, nc, rtolc, atolc, fine_method, nf, rtolf, atolf, \n",
    "                   max_iter, eps, scale_factor)\n",
    "    \n",
    "    print(\"\\nGlobal error:\")     \n",
    "    err = np.zeros(3)\n",
    "    for ieq in range(3):\n",
    "        err[ieq] = np.linalg.norm((sol.Y[ieq]-sol_ref.Y[ieq])/scale_factor[ieq])/np.sqrt(nb_sub)\n",
    "        print(f\" {ieq+1}th variable : || Yi - Yref || = {err[ieq]:7.2e} (error between parareal and ref solution)\")\n",
    "        \n",
    "    print(\"\\nEfficiency :\")\n",
    "    print(f\"  nb iteration (nit) = {sol.nit}\")\n",
    "    print(f\"  nit/n = {sol.nit/nb_sub}\")\n",
    "    print(f\"  Tg/Tf = {Tg/Tf}\")\n",
    "    Tpar = (sol.nit/nb_sub) + (sol.nit+1)*(Tg/Tf) \n",
    "    print(f\"  Tseq/Tpar = {1/Tpar}\")\n",
    "\n",
    "    # plot solution\n",
    "    plot_sol(tini, tend, nb_sub, sol_ref, sol)\n",
    "        \n",
    "parareal_sol()"
   ]
  }
 ],
 "metadata": {
  "hide_code_all_hidden": false,
  "kernelspec": {
   "display_name": "Python 3",
   "language": "python",
   "name": "python3"
  },
  "language_info": {
   "codemirror_mode": {
    "name": "ipython",
    "version": 3
   },
   "file_extension": ".py",
   "mimetype": "text/x-python",
   "name": "python",
   "nbconvert_exporter": "python",
   "pygments_lexer": "ipython3",
   "version": "3.7.1"
  }
 },
 "nbformat": 4,
 "nbformat_minor": 2
}
